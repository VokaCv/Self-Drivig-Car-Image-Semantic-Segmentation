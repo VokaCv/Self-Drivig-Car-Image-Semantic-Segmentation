{
 "cells": [
  {
   "cell_type": "code",
   "execution_count": null,
   "metadata": {},
   "outputs": [],
   "source": [
    "from azureml.core import Workspace\n",
    "ws = Workspace.from_config()\n",
    "print(ws.webservices)\n",
    "\n",
    "# Choose the webservice you are interested in\n",
    "\n",
    "from azureml.core import Webservice\n",
    "\n",
    "service = Webservice(ws, 'p8-endpoint')\n",
    "print(service.get_logs())"
   ]
  },
  {
   "cell_type": "markdown",
   "metadata": {},
   "source": [
    "# To debug locally score.py\n",
    "install azure ml inference server\n",
    "\n",
    "python -m pip install azureml-inference-server-http\n",
    "\n",
    "azmlinfsrv --entry_script score.py \n",
    "(inside directory with score.py or precise the path)\n",
    "\n",
    "run get on:\n",
    "\n",
    "    - To check the server status\n",
    "curl -p 127.0.0.1:5001 \n",
    "\n",
    "     - To launch requests, sent requests to this url\n",
    "curl -p 127.0.0.1:5001/score\n",
    "\n",
    "#### To kill the port \n",
    "    netstat -ano | findstr :PORTNUM\n",
    "    taskkill /PID <PID> /F\n",
    "\n"
   ]
  },
  {
   "cell_type": "markdown",
   "metadata": {},
   "source": []
  }
 ],
 "metadata": {
  "interpreter": {
   "hash": "8957333d229d88df49d8574799528de05985442d2d486b070ab4671ca83a22d2"
  },
  "kernelspec": {
   "display_name": "Python 3.8.5 64-bit ('base': conda)",
   "language": "python",
   "name": "python3"
  },
  "language_info": {
   "codemirror_mode": {
    "name": "ipython",
    "version": 3
   },
   "file_extension": ".py",
   "mimetype": "text/x-python",
   "name": "python",
   "nbconvert_exporter": "python",
   "pygments_lexer": "ipython3",
   "version": "3.8.8"
  },
  "orig_nbformat": 4
 },
 "nbformat": 4,
 "nbformat_minor": 2
}
